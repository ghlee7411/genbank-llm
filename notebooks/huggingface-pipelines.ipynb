{
 "cells": [
  {
   "cell_type": "code",
   "execution_count": 1,
   "metadata": {},
   "outputs": [
    {
     "data": {
      "text/plain": [
       "'4.28.0'"
      ]
     },
     "execution_count": 1,
     "metadata": {},
     "output_type": "execute_result"
    }
   ],
   "source": [
    "import transformers\n",
    "\n",
    "transformers.__version__"
   ]
  },
  {
   "cell_type": "code",
   "execution_count": 2,
   "metadata": {},
   "outputs": [],
   "source": [
    "from transformers import pipeline\n",
    "\n",
    "generator = pipeline(model=\"microsoft/biogpt\")"
   ]
  },
  {
   "cell_type": "code",
   "execution_count": 3,
   "metadata": {},
   "outputs": [],
   "source": [
    "from transformers import AutoTokenizer, AutoModelForCausalLM\n",
    "\n",
    "tokenizer = AutoTokenizer.from_pretrained(\"microsoft/biogpt\")\n",
    "model = AutoModelForCausalLM.from_pretrained(\"microsoft/biogpt\")"
   ]
  },
  {
   "cell_type": "code",
   "execution_count": 5,
   "metadata": {},
   "outputs": [
    {
     "data": {
      "text/plain": [
       "[{'generated_text': 'AAACCAAAACGTA).'}]"
      ]
     },
     "execution_count": 5,
     "metadata": {},
     "output_type": "execute_result"
    }
   ],
   "source": [
    "generator('AAACCAAAACGTA')"
   ]
  },
  {
   "cell_type": "code",
   "execution_count": 11,
   "metadata": {},
   "outputs": [
    {
     "data": {
      "text/plain": [
       "['</s>',\n",
       " 'g',\n",
       " 'ta',\n",
       " 'ag',\n",
       " 'ga',\n",
       " 'at',\n",
       " 'at',\n",
       " 'ga',\n",
       " 'at',\n",
       " 'a',\n",
       " 'a',\n",
       " 'a',\n",
       " 'acc',\n",
       " 'g',\n",
       " 'cc',\n",
       " 'g',\n",
       " 'c',\n",
       " 'ga',\n",
       " 'at',\n",
       " 'g',\n",
       " 't',\n",
       " 'g',\n",
       " 't',\n",
       " 'gg',\n",
       " 'gg',\n",
       " 'at',\n",
       " 'g',\n",
       " 't',\n",
       " 'cc',\n",
       " 'gg',\n",
       " 'c',\n",
       " 'ta',\n",
       " 'at',\n",
       " 'g',\n",
       " 't',\n",
       " 'g',\n",
       " 'at',\n",
       " 'c',\n",
       " 'cat</w>']"
      ]
     },
     "execution_count": 11,
     "metadata": {},
     "output_type": "execute_result"
    }
   ],
   "source": [
    "_ = tokenizer.encode(\"gtaaggaatatgaataaaaccgccgcgaatgtgtggggatgtccggctaatgtgatccat\")\n",
    "tokenizer.convert_ids_to_tokens(_)"
   ]
  },
  {
   "cell_type": "code",
   "execution_count": 12,
   "metadata": {},
   "outputs": [
    {
     "data": {
      "text/plain": [
       "['</s>',\n",
       " 'MY',\n",
       " 'Y',\n",
       " 'SF',\n",
       " 'MT',\n",
       " 'MK',\n",
       " 'Q',\n",
       " 'SD',\n",
       " 'DQ',\n",
       " 'I',\n",
       " 'RA',\n",
       " 'Q',\n",
       " 'IF',\n",
       " 'K',\n",
       " 'AL',\n",
       " 'S',\n",
       " 'DE',\n",
       " 'SR',\n",
       " 'L',\n",
       " 'AI',\n",
       " 'IR',\n",
       " 'TL',\n",
       " 'Y',\n",
       " 'V',\n",
       " 'SG',\n",
       " 'K',\n",
       " 'EL',\n",
       " 'SC</w>']"
      ]
     },
     "execution_count": 12,
     "metadata": {},
     "output_type": "execute_result"
    }
   ],
   "source": [
    "_ = tokenizer.encode(\"MYYSFMTMKQSDDQIRAQIFKALSDESRLAIIRTLYVSGKELSC\")\n",
    "tokenizer.convert_ids_to_tokens(_)"
   ]
  },
  {
   "cell_type": "code",
   "execution_count": 13,
   "metadata": {},
   "outputs": [
    {
     "data": {
      "application/vnd.jupyter.widget-view+json": {
       "model_id": "5b2de78bebd4408186340b957d6406ef",
       "version_major": 2,
       "version_minor": 0
      },
      "text/plain": [
       "Downloading:   0%|          | 0.00/665 [00:00<?, ?B/s]"
      ]
     },
     "metadata": {},
     "output_type": "display_data"
    },
    {
     "data": {
      "application/vnd.jupyter.widget-view+json": {
       "model_id": "56ff35f8675f446981ac75c71df6392c",
       "version_major": 2,
       "version_minor": 0
      },
      "text/plain": [
       "Downloading:   0%|          | 0.00/1.04M [00:00<?, ?B/s]"
      ]
     },
     "metadata": {},
     "output_type": "display_data"
    },
    {
     "data": {
      "application/vnd.jupyter.widget-view+json": {
       "model_id": "3af1dc885d684cad913c1735e789d2b4",
       "version_major": 2,
       "version_minor": 0
      },
      "text/plain": [
       "Downloading:   0%|          | 0.00/456k [00:00<?, ?B/s]"
      ]
     },
     "metadata": {},
     "output_type": "display_data"
    },
    {
     "data": {
      "application/vnd.jupyter.widget-view+json": {
       "model_id": "b0bfb0b8d3ab49128536361361e6dae2",
       "version_major": 2,
       "version_minor": 0
      },
      "text/plain": [
       "Downloading:   0%|          | 0.00/1.36M [00:00<?, ?B/s]"
      ]
     },
     "metadata": {},
     "output_type": "display_data"
    },
    {
     "data": {
      "application/vnd.jupyter.widget-view+json": {
       "model_id": "26084910017c4ecf9b9ee11997123c25",
       "version_major": 2,
       "version_minor": 0
      },
      "text/plain": [
       "Downloading:   0%|          | 0.00/548M [00:00<?, ?B/s]"
      ]
     },
     "metadata": {},
     "output_type": "display_data"
    },
    {
     "data": {
      "application/vnd.jupyter.widget-view+json": {
       "model_id": "8d6f993d9017441eb113b2f41d2fd2f5",
       "version_major": 2,
       "version_minor": 0
      },
      "text/plain": [
       "Downloading:   0%|          | 0.00/124 [00:00<?, ?B/s]"
      ]
     },
     "metadata": {},
     "output_type": "display_data"
    }
   ],
   "source": [
    "from transformers import AutoTokenizer, AutoModelForCausalLM\n",
    "\n",
    "tokenizer = AutoTokenizer.from_pretrained(\"gpt2\")\n",
    "model = AutoModelForCausalLM.from_pretrained(\"gpt2\")"
   ]
  },
  {
   "cell_type": "code",
   "execution_count": 14,
   "metadata": {},
   "outputs": [
    {
     "data": {
      "text/plain": [
       "['g',\n",
       " 'ta',\n",
       " 'ag',\n",
       " 'ga',\n",
       " 'at',\n",
       " 'at',\n",
       " 'ga',\n",
       " 'ata',\n",
       " 'aa',\n",
       " 'acc',\n",
       " 'g',\n",
       " 'cc',\n",
       " 'gc',\n",
       " 'ga',\n",
       " 'at',\n",
       " 'gt',\n",
       " 'gt',\n",
       " 'gg',\n",
       " 'gg',\n",
       " 'at',\n",
       " 'gt',\n",
       " 'cc',\n",
       " 'gg',\n",
       " 'ct',\n",
       " 'a',\n",
       " 'at',\n",
       " 'gt',\n",
       " 'gat',\n",
       " 'cc',\n",
       " 'at']"
      ]
     },
     "execution_count": 14,
     "metadata": {},
     "output_type": "execute_result"
    }
   ],
   "source": [
    "_ = tokenizer.encode(\"gtaaggaatatgaataaaaccgccgcgaatgtgtggggatgtccggctaatgtgatccat\")\n",
    "tokenizer.convert_ids_to_tokens(_)"
   ]
  },
  {
   "cell_type": "code",
   "execution_count": 15,
   "metadata": {},
   "outputs": [
    {
     "data": {
      "text/plain": [
       "['MY',\n",
       " 'YS',\n",
       " 'F',\n",
       " 'MT',\n",
       " 'MK',\n",
       " 'Q',\n",
       " 'SD',\n",
       " 'D',\n",
       " 'Q',\n",
       " 'I',\n",
       " 'RA',\n",
       " 'Q',\n",
       " 'IF',\n",
       " 'K',\n",
       " 'AL',\n",
       " 'SD',\n",
       " 'ES',\n",
       " 'RL',\n",
       " 'A',\n",
       " 'II',\n",
       " 'RT',\n",
       " 'LY',\n",
       " 'VS',\n",
       " 'G',\n",
       " 'K',\n",
       " 'EL',\n",
       " 'SC']"
      ]
     },
     "execution_count": 15,
     "metadata": {},
     "output_type": "execute_result"
    }
   ],
   "source": [
    "_ = tokenizer.encode(\"MYYSFMTMKQSDDQIRAQIFKALSDESRLAIIRTLYVSGKELSC\")\n",
    "tokenizer.convert_ids_to_tokens(_)"
   ]
  },
  {
   "cell_type": "code",
   "execution_count": null,
   "metadata": {},
   "outputs": [],
   "source": []
  }
 ],
 "metadata": {
  "kernelspec": {
   "display_name": "pytorch-metal",
   "language": "python",
   "name": "python3"
  },
  "language_info": {
   "codemirror_mode": {
    "name": "ipython",
    "version": 3
   },
   "file_extension": ".py",
   "mimetype": "text/x-python",
   "name": "python",
   "nbconvert_exporter": "python",
   "pygments_lexer": "ipython3",
   "version": "3.10.4"
  },
  "orig_nbformat": 4
 },
 "nbformat": 4,
 "nbformat_minor": 2
}
